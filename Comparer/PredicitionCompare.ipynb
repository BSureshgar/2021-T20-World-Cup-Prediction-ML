{
 "cells": [
  {
   "cell_type": "markdown",
   "id": "bbb7e98e",
   "metadata": {},
   "source": []
  },
  {
   "cell_type": "code",
   "execution_count": 1,
   "id": "ab4b200b",
   "metadata": {},
   "outputs": [],
   "source": [
    "from bs4 import BeautifulSoup as soup\n",
    "from urllib.request import urlopen as uReq\n",
    "import pandas as pd\n",
    "import numpy as np\n",
    "import re\n",
    "import datetime\n",
    "import dateutil.parser as dparser"
   ]
  },
  {
   "cell_type": "code",
   "execution_count": 2,
   "id": "288ddf22",
   "metadata": {},
   "outputs": [],
   "source": [
    "# This section of code is used to prase the Actual Results from Cricinfo and is only required to be done once. \n",
    "\n",
    "# url = 'https://www.espncricinfo.com/series/icc-men-s-t20-world-cup-2021-22-1267897/match-results'\n",
    "# uClient = uReq(url)\n",
    "# raw_html = uClient.read()\n",
    "# uClient.close()   \n",
    "# page_soup = soup(raw_html, \"html.parser\")\n",
    "# data = page_soup.findAll(\"a\", {\"class\" : 'match-info-link-FIXTURES'})\n",
    "\n",
    "# filename = \"match_url_results.csv\"\n",
    "# f = open(filename, 'w')\n",
    "# headers = \"match_url,Date,Team1,Team2,ActualResult\"\n",
    "# f.write(headers)\n",
    "# for i in range(len(data)):\n",
    "#     match = 'https://www.espncricinfo.com' + data[-(i+1)]['href']\n",
    "#     f.write(\"\\n\")\n",
    "#     f.write(match + \",\")\n",
    "#     uClient = uReq(match)\n",
    "#     raw_html_inside = uClient.read()\n",
    "#     uClient.close()   \n",
    "#     page_soup_inside = soup(raw_html_inside, \"html.parser\")\n",
    "#     team = page_soup_inside.findAll(\"p\", {\"class\" : 'name'})\n",
    "#     date = page_soup_inside.findAll(\"div\", {\"class\" : 'description'})\n",
    "#     result = page_soup_inside.findAll(\"div\", {\"class\" : 'status-text'})\n",
    "#     f.write(dparser.parse(date[0].text.split(', ', 2)[2] , fuzzy=True).strftime(\"%d-%m-%y\") + \",\")\n",
    "#     f.write(team[-1].text + \",\")\n",
    "#     f.write(team[-2].text + \",\")\n",
    "#     f.write(result[-1].text.split(' won')[0])  \n",
    "# f.close()"
   ]
  },
  {
   "cell_type": "code",
   "execution_count": 3,
   "id": "8170eafb",
   "metadata": {},
   "outputs": [],
   "source": [
    "def Predictor(ModelName):  \n",
    "    \n",
    "    ModelResults = pd.read_csv(ModelName + \"Results.csv\")\n",
    "    ModelResults = ModelResults.drop('Unnamed: 0', axis = 1)\n",
    "    ActualResults = pd.read_csv(\"match_url_results.csv\")\n",
    "    ActualResults['Team1'] = ActualResults['Team1'].str.replace(\"Papua New Guinea\",'PNG')\n",
    "    ActualResults['Team1'] = ActualResults['Team1'].str.replace(\" \",'')\n",
    "    ActualResults['Team2'] = ActualResults['Team2'].str.replace(\"Papua New Guinea\",'PNG')\n",
    "    ActualResults['Team2'] = ActualResults['Team2'].str.replace(\" \",'')\n",
    "    ActualResults['ActualResult'] = ActualResults['ActualResult'].str.replace(\"Papua New Guinea\",'PNG')\n",
    "    ActualResults['ActualResult'] = ActualResults['ActualResult'].str.replace(\" \",'')\n",
    "    ActualResults['PredictedResult'] = ModelResults['PredictedResult']\n",
    "    ActualResults['Y/N'] = np.nan\n",
    "    \n",
    "    for i in range(len(ActualResults)):\n",
    "        if ActualResults['ActualResult'][i] == ActualResults['PredictedResult'][i]:\n",
    "            ActualResults['Y/N'][i] = 1\n",
    "        else:\n",
    "            ActualResults['Y/N'][i] = 0\n",
    "    \n",
    "    Accuracy = ((ActualResults.iloc[:,-1].sum(axis=0))/44)*100\n",
    "    \n",
    "    return print(\"The \" + ModelName + \" model was: \" + str('%.2f'%Accuracy) +\"% accurate\") "
   ]
  },
  {
   "cell_type": "markdown",
   "id": "d15a64a6",
   "metadata": {},
   "source": [
    "# Combined Stats Model"
   ]
  },
  {
   "cell_type": "code",
   "execution_count": 7,
   "id": "a2a3dd15",
   "metadata": {},
   "outputs": [
    {
     "name": "stdout",
     "output_type": "stream",
     "text": [
      "The LogReg model was: 70.45% accurate\n",
      "The RF model was: 72.73% accurate\n",
      "The SVM model was: 65.91% accurate\n"
     ]
    },
    {
     "name": "stderr",
     "output_type": "stream",
     "text": [
      "<ipython-input-3-454e6339bbbe>:17: SettingWithCopyWarning: \n",
      "A value is trying to be set on a copy of a slice from a DataFrame\n",
      "\n",
      "See the caveats in the documentation: https://pandas.pydata.org/pandas-docs/stable/user_guide/indexing.html#returning-a-view-versus-a-copy\n",
      "  ActualResults['Y/N'][i] = 1\n",
      "<ipython-input-3-454e6339bbbe>:19: SettingWithCopyWarning: \n",
      "A value is trying to be set on a copy of a slice from a DataFrame\n",
      "\n",
      "See the caveats in the documentation: https://pandas.pydata.org/pandas-docs/stable/user_guide/indexing.html#returning-a-view-versus-a-copy\n",
      "  ActualResults['Y/N'][i] = 0\n"
     ]
    }
   ],
   "source": [
    "Predictor(\"LogRegCombined\")\n",
    "Predictor(\"RFCombined\")\n",
    "Predictor(\"SVMCombined\")"
   ]
  },
  {
   "cell_type": "markdown",
   "id": "95cf8759",
   "metadata": {},
   "source": [
    "# Seperate Stats Model"
   ]
  },
  {
   "cell_type": "code",
   "execution_count": 8,
   "id": "486db9ce",
   "metadata": {},
   "outputs": [
    {
     "name": "stdout",
     "output_type": "stream",
     "text": [
      "The LogRegSeperate model was: 52.27% accurate\n",
      "The RFSeperate model was: 65.91% accurate\n",
      "The SVMSeperate model was: 54.55% accurate\n"
     ]
    },
    {
     "name": "stderr",
     "output_type": "stream",
     "text": [
      "<ipython-input-3-454e6339bbbe>:17: SettingWithCopyWarning: \n",
      "A value is trying to be set on a copy of a slice from a DataFrame\n",
      "\n",
      "See the caveats in the documentation: https://pandas.pydata.org/pandas-docs/stable/user_guide/indexing.html#returning-a-view-versus-a-copy\n",
      "  ActualResults['Y/N'][i] = 1\n",
      "<ipython-input-3-454e6339bbbe>:19: SettingWithCopyWarning: \n",
      "A value is trying to be set on a copy of a slice from a DataFrame\n",
      "\n",
      "See the caveats in the documentation: https://pandas.pydata.org/pandas-docs/stable/user_guide/indexing.html#returning-a-view-versus-a-copy\n",
      "  ActualResults['Y/N'][i] = 0\n"
     ]
    }
   ],
   "source": [
    "Predictor(\"LogRegSeperate\")\n",
    "Predictor(\"RFSeperate\")\n",
    "Predictor(\"SVMSeperate\")"
   ]
  },
  {
   "cell_type": "code",
   "execution_count": null,
   "id": "ceb1de5f",
   "metadata": {},
   "outputs": [],
   "source": []
  }
 ],
 "metadata": {
  "kernelspec": {
   "display_name": "Python 3",
   "language": "python",
   "name": "python3"
  },
  "language_info": {
   "codemirror_mode": {
    "name": "ipython",
    "version": 3
   },
   "file_extension": ".py",
   "mimetype": "text/x-python",
   "name": "python",
   "nbconvert_exporter": "python",
   "pygments_lexer": "ipython3",
   "version": "3.8.8"
  }
 },
 "nbformat": 4,
 "nbformat_minor": 5
}
