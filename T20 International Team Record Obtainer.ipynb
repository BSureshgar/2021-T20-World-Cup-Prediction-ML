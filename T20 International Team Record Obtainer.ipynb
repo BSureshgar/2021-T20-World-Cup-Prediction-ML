{
 "cells": [
  {
   "cell_type": "code",
   "execution_count": 1,
   "id": "22400e83",
   "metadata": {},
   "outputs": [],
   "source": [
    "from bs4 import BeautifulSoup as soup\n",
    "from urllib.request import urlopen as uReq"
   ]
  },
  {
   "cell_type": "code",
   "execution_count": 2,
   "id": "676ee6d2",
   "metadata": {},
   "outputs": [],
   "source": [
    "teams = {'40': 'Afghanistan', '2' : 'Australia', '25' : 'Bangladesh', '1':'England','6':'India','29':'Ireland',\n",
    "         '28':'Namibia','15':'Netherlands','5':'NewZealand','37':'Oman','7':'Pakistan','20':'PapuaNewGuinea',\n",
    "         '30':'Scotland','3':'SouthAfrica','8':'SriLanka','4':'WestIndies'}\n",
    "\n",
    "def TeamData (team):\n",
    "    filename = teams[str(team)] + \".csv\"\n",
    "    f = open(filename, 'w')\n",
    "    headers = \"Team, Result, Margin, BR, Toss, Bat, ,Opposition, Ground, Date\\n\"\n",
    "    f.write(headers)\n",
    "    for i in range(1,10):\n",
    "        ObtainData(str(team),str(i),f)\n",
    "    f.close()"
   ]
  },
  {
   "cell_type": "code",
   "execution_count": 3,
   "id": "401f9668",
   "metadata": {},
   "outputs": [],
   "source": [
    "def ObtainData(team,page,f):\n",
    "    #Obtaining data for team\n",
    "    url = 'https://stats.espncricinfo.com/ci/engine/stats/index.html?class=3;page='+page+';team='+team+';template=results;type=team;view=results'\n",
    "    uClient = uReq(url)\n",
    "    raw_html = uClient.read()\n",
    "    uClient.close()   \n",
    "    page_soup = soup(raw_html, \"html.parser\")\n",
    "    table = page_soup.findAll(\"table\", {\"class\" : \"engineTable\"})\n",
    "    results = table[2].tbody\n",
    "    \n",
    "    for i in results.find_all(\"tr\"):\n",
    "        f.write(\"\\n\")\n",
    "        for k in i.find_all(\"td\"):\n",
    "            # prints all td tags with a text format\n",
    "            if (k.text == 'No records available to match this query'):\n",
    "                break\n",
    "            else:\n",
    "                f.write(k.text + \",\")"
   ]
  },
  {
   "cell_type": "code",
   "execution_count": 4,
   "id": "63b5dab0",
   "metadata": {},
   "outputs": [],
   "source": [
    "for key in teams.keys():\n",
    "    TeamData(key)"
   ]
  }
 ],
 "metadata": {
  "kernelspec": {
   "display_name": "Python 3",
   "language": "python",
   "name": "python3"
  },
  "language_info": {
   "codemirror_mode": {
    "name": "ipython",
    "version": 3
   },
   "file_extension": ".py",
   "mimetype": "text/x-python",
   "name": "python",
   "nbconvert_exporter": "python",
   "pygments_lexer": "ipython3",
   "version": "3.8.8"
  }
 },
 "nbformat": 4,
 "nbformat_minor": 5
}
